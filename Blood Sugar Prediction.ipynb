{
  "nbformat": 4,
  "nbformat_minor": 0,
  "metadata": {
    "colab": {
      "provenance": []
    },
    "kernelspec": {
      "name": "python3",
      "display_name": "Python 3"
    },
    "language_info": {
      "name": "python"
    }
  },
  "cells": [
    {
      "cell_type": "code",
      "source": [
        "# Final Solution\n",
        "\n",
        "import pulp\n",
        "\n",
        "# Prompt the user for input\n",
        "max_apples = int(input(\"Enter the maximum quantity of apples you have: \"))\n",
        "max_bananas = int(input(\"Enter the maximum quantity of bananas you have: \"))\n",
        "max_oranges = int(input(\"Enter the maximum quantity of oranges you have: \"))\n",
        "\n",
        "a = float(input(\"Enter the carb content of apples: \"))\n",
        "b = float(input(\"Enter the carb content of bananas: \"))\n",
        "c = float(input(\"Enter the carb content of oranges: \"))\n",
        "\n",
        "d = float(input(\"Enter the fiber content of apples: \"))\n",
        "e = float(input(\"Enter the fiber content of bananas: \"))\n",
        "f = float(input(\"Enter the fiber content of oranges: \"))\n",
        "\n",
        "x = a - d\n",
        "y = b - e\n",
        "z = c - f\n",
        "\n",
        "# x = float(input(\"Enter the sugar content of apples: \"))\n",
        "# y = float(input(\"Enter the sugar content of bananas: \"))\n",
        "# z = float(input(\"Enter the sugar content of oranges: \"))\n",
        "\n",
        "CurrentBloodSugar = float(input(\"Enter your current blood sugar level: \"))\n",
        "TargetBloodSugar = float(input(\"Enter your target blood sugar level: \"))\n",
        "TargetBloodSugar = TargetBloodSugar - CurrentBloodSugar\n",
        "\n",
        "# Create a maximization problem\n",
        "problem = pulp.LpProblem(\"MaxFoodQuantity\", pulp.LpMaximize)\n",
        "\n",
        "# Define decision variables as non-negative integers\n",
        "n = pulp.LpVariable(\"n\", lowBound=0, upBound=max_apples, cat=pulp.LpInteger)\n",
        "m = pulp.LpVariable(\"m\", lowBound=0, upBound=max_bananas, cat=pulp.LpInteger)\n",
        "l = pulp.LpVariable(\"l\", lowBound=0, upBound=max_oranges, cat=pulp.LpInteger)\n",
        "\n",
        "# Set the objective function (maximize the sum of quantities)\n",
        "problem += n + m + l, \"Objective\"\n",
        "\n",
        "# Add the constraint on the total sugar content\n",
        "problem += x * n + y * m + z * l<= TargetBloodSugar, \"BloodSugarConstraint\"\n",
        "\n",
        "# Solve the problem\n",
        "problem.solve()\n",
        "\n",
        "# Print the results\n",
        "print(\"Status:\", pulp.LpStatus[problem.status])\n",
        "print(\"Quantity of Apples (n) =\", n.varValue)\n",
        "print(\"Quantity of Bananas (m) =\", m.varValue)\n",
        "print(\"Quantity of oranges (l) =\", l.varValue)\n",
        "print(\"Total Quantity of Food Eaten =\", n.varValue + m.varValue + l.varValue)\n"
      ],
      "metadata": {
        "id": "oQJG4E3gozrG",
        "colab": {
          "base_uri": "https://localhost:8080/"
        },
        "outputId": "e8a25b38-9c71-4467-c177-bb2b339f52b0"
      },
      "execution_count": null,
      "outputs": [
        {
          "output_type": "stream",
          "name": "stdout",
          "text": [
            "Enter the maximum quantity of apples you have: 50\n",
            "Enter the maximum quantity of bananas you have: 60\n",
            "Enter the maximum quantity of oranges you have: 30\n",
            "Enter the carb content of apples: 15\n",
            "Enter the carb content of bananas: 2\n",
            "Enter the carb content of oranges: 18\n",
            "Enter the fiber content of apples: 3\n",
            "Enter the fiber content of bananas: 1\n",
            "Enter the fiber content of oranges: 10\n",
            "Enter your current blood sugar level: 100\n",
            "Enter your target blood sugar level: 600\n",
            "Status: Optimal\n",
            "Quantity of Apples (n) = 16.0\n",
            "Quantity of Bananas (m) = 60.0\n",
            "Quantity of oranges (l) = 30.0\n",
            "Total Quantity of Food Eaten = 106.0\n"
          ]
        }
      ]
    }
  ]
}